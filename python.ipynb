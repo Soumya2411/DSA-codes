{
  "nbformat": 4,
  "nbformat_minor": 0,
  "metadata": {
    "colab": {
      "provenance": [],
      "authorship_tag": "ABX9TyOE5Zm3yzEKK3h1zftaXAWN",
      "include_colab_link": true
    },
    "kernelspec": {
      "name": "python3",
      "display_name": "Python 3"
    },
    "language_info": {
      "name": "python"
    }
  },
  "cells": [
    {
      "cell_type": "markdown",
      "metadata": {
        "id": "view-in-github",
        "colab_type": "text"
      },
      "source": [
        "<a href=\"https://colab.research.google.com/github/Soumya2411/DSA-codes/blob/main/python.ipynb\" target=\"_parent\"><img src=\"https://colab.research.google.com/assets/colab-badge.svg\" alt=\"Open In Colab\"/></a>"
      ]
    },
    {
      "cell_type": "code",
      "execution_count": 7,
      "metadata": {
        "colab": {
          "base_uri": "https://localhost:8080/"
        },
        "id": "_Of2jdYYWh3U",
        "outputId": "7ccbcb42-4e6d-47e5-b9ee-d2154bf716ba"
      },
      "outputs": [
        {
          "output_type": "stream",
          "name": "stdout",
          "text": [
            "Enter a car nameverna\n",
            "This is a car class verna\n",
            "Enter a diver namehello\n",
            "This is a driver class hello\n"
          ]
        }
      ],
      "source": [
        "class car:\n",
        "  var=input(\"Enter a car name\")\n",
        "  print(\"This is a car class\",var)\n",
        "\n",
        "class driver:\n",
        "  var=input(\"Enter a diver name\")\n",
        "  print(\"This is a driver class\",var)\n",
        "\n",
        "c1=car()\n",
        "d1=driver()"
      ]
    }
  ]
}