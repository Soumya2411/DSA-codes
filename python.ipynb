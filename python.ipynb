{
  "nbformat": 4,
  "nbformat_minor": 0,
  "metadata": {
    "colab": {
      "provenance": [],
      "authorship_tag": "ABX9TyOZ3F70OhydgF/XRnLNh26b",
      "include_colab_link": true
    },
    "kernelspec": {
      "name": "python3",
      "display_name": "Python 3"
    },
    "language_info": {
      "name": "python"
    }
  },
  "cells": [
    {
      "cell_type": "markdown",
      "metadata": {
        "id": "view-in-github",
        "colab_type": "text"
      },
      "source": [
        "<a href=\"https://colab.research.google.com/github/Soumya2411/DSA-codes/blob/main/python.ipynb\" target=\"_parent\"><img src=\"https://colab.research.google.com/assets/colab-badge.svg\" alt=\"Open In Colab\"/></a>"
      ]
    },
    {
      "cell_type": "code",
      "execution_count": 12,
      "metadata": {
        "colab": {
          "base_uri": "https://localhost:8080/"
        },
        "id": "_Of2jdYYWh3U",
        "outputId": "45851e12-838d-40ce-ee5c-9ec595597a90"
      },
      "outputs": [
        {
          "output_type": "stream",
          "name": "stdout",
          "text": [
            "Enter car name verna\n",
            "Enter driver name szuki\n",
            "Enter car name audi\n",
            "Enter driver name soumya\n",
            "Enter car name me\n",
            "Enter driver name hello\n",
            " verna drives  szuki car\n",
            " audi drives  soumya car\n",
            " me drives  hello car\n"
          ]
        }
      ],
      "source": [
        "class car:\n",
        "  def __init__(self):\n",
        "    self.name =input(\"Enter car name\")\n",
        "\n",
        "class driver:\n",
        "  def __init__(self):\n",
        "    self.name =input(\"Enter driver name\")\n",
        "\n",
        "\n",
        "\n",
        "  # var=input(\"Enter a diver name\")\n",
        "  # print(\"This is a driver class\",var)\n",
        "\n",
        "c1=car()\n",
        "d1=driver()\n",
        "c2=car()\n",
        "d2=driver()\n",
        "c3=car()\n",
        "d3=driver()\n",
        "\n",
        "\n",
        "\n",
        "\n",
        "print(c1.name,\"drives\",d1.name,\"car\")\n",
        "print(c2.name,\"drives\",d2.name,\"car\")\n",
        "print(c3.name,\"drives\",d3.name,\"car\")\n"
      ]
    }
  ]
}